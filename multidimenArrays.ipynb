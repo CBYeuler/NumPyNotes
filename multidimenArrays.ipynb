{
 "cells": [
  {
   "cell_type": "markdown",
   "id": "5f6f1ff9",
   "metadata": {},
   "source": [
    "# Multidimensional Arrays"
   ]
  },
  {
   "cell_type": "code",
   "execution_count": 23,
   "id": "9edad866",
   "metadata": {},
   "outputs": [
    {
     "name": "stdout",
     "output_type": "stream",
     "text": [
      "2\n",
      "[[1 2 3]\n",
      " [4 5 6]]\n"
     ]
    },
    {
     "data": {
      "text/latex": [
       "$\\displaystyle \\left[\\begin{matrix}1 & 2 & 3\\\\4 & 5 & 6\\end{matrix}\\right]$"
      ],
      "text/plain": [
       "<IPython.core.display.Math object>"
      ]
     },
     "metadata": {},
     "output_type": "display_data"
    }
   ],
   "source": [
    "import numpy as np\n",
    "import sympy as sym\n",
    "from IPython.display import display, Math\n",
    "\n",
    "array = np.array([[1,2,3],[4,5,6]]) # this would produce a two dimensional matrix a 2d array\n",
    "print(array.ndim) # prints 2\n",
    "print(array)\n",
    "display(Math(sym.latex(sym.Matrix(array))))"
   ]
  },
  {
   "cell_type": "code",
   "execution_count": null,
   "id": "31b557ec",
   "metadata": {},
   "outputs": [
    {
     "name": "stdout",
     "output_type": "stream",
     "text": [
      "3\n",
      "(2, 2, 3)\n"
     ]
    },
    {
     "data": {
      "text/latex": [
       "$\\displaystyle \\mathtt{\\text{[[[ 1  2  3]\n",
       "  [ 4  5  6]]\n",
       "\n",
       " [[ 7  8  9]\n",
       "  [10 11 12]]]}}$"
      ],
      "text/plain": [
       "<IPython.core.display.Math object>"
      ]
     },
     "metadata": {},
     "output_type": "display_data"
    }
   ],
   "source": [
    "array = np.array([ [ [1,2,3],[4,5,6]] , [[7,8,9], [10,11,12] ] ]) # this would produce a three dimensional matrix a 3d array\n",
    "print(array.ndim) # prints 3\n",
    "print(array.shape) # prints(num colums, num rows, dimention) as a tuple\n",
    "#sympy only supports 1D or 2D matrices\n",
    "display(Math(sym.latex(array)))"
   ]
  },
  {
   "cell_type": "markdown",
   "id": "2af64cf4",
   "metadata": {},
   "source": [
    " please not that the number of brackets indicates the number of dimensions in this case 3d"
   ]
  },
  {
   "cell_type": "code",
   "execution_count": null,
   "id": "db4f13ed",
   "metadata": {},
   "outputs": [
    {
     "name": "stdout",
     "output_type": "stream",
     "text": [
      "1\n",
      "1\n",
      "2\n",
      "3\n",
      "6\n"
     ]
    }
   ],
   "source": [
    "array = np.array([ [ [1,2,3],[4,5,6]] , [[7,8,9], [10,11,12] ] ]) # this would produce a three dimensional matrix a 3d array\n",
    "print(array[0][0][0]) # chain indexing\n",
    "print(array[0,0,0])\n",
    "print(array[0,0,1])\n",
    "print(array[0,0,2])\n",
    "print(array[0,1,2]) # multidimensional indexing"
   ]
  },
  {
   "cell_type": "markdown",
   "id": "1a1d6334",
   "metadata": {},
   "source": [
    "Multidimensional Indexing is faster than Chain indexing"
   ]
  }
 ],
 "metadata": {
  "kernelspec": {
   "display_name": "base",
   "language": "python",
   "name": "python3"
  },
  "language_info": {
   "codemirror_mode": {
    "name": "ipython",
    "version": 3
   },
   "file_extension": ".py",
   "mimetype": "text/x-python",
   "name": "python",
   "nbconvert_exporter": "python",
   "pygments_lexer": "ipython3",
   "version": "3.11.7"
  }
 },
 "nbformat": 4,
 "nbformat_minor": 5
}
