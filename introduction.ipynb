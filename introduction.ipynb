{
 "cells": [
  {
   "cell_type": "markdown",
   "id": "66cb0c52",
   "metadata": {},
   "source": [
    "# Numpy \n",
    "used in heavy data driven industries\n",
    "\n",
    "as python is generally slower, NumPy is made in C so it computes faster"
   ]
  },
  {
   "cell_type": "markdown",
   "id": "6ac66e40",
   "metadata": {},
   "source": [
    "numpy arrays are much faster and with numpy arrays we can perform vectorized operations\n",
    "so:\n",
    "- helps us scale large numerical operations with ease"
   ]
  },
  {
   "cell_type": "code",
   "execution_count": 4,
   "id": "cf706827",
   "metadata": {},
   "outputs": [
    {
     "name": "stdout",
     "output_type": "stream",
     "text": [
      "1.26.4\n",
      "Array: [1 2 3 4 5]\n",
      "Sum of array elements 15\n",
      "Mean of array elements 3.0\n",
      "Standard Deviation of array elements 1.4142135623730951\n"
     ]
    }
   ],
   "source": [
    "import numpy as np\n",
    "print((np.__version__))\n",
    "\n",
    "array = np.array([1, 2, 3, 4, 5])\n",
    "print(\"Array:\", array)\n",
    "print(\"Sum of array elements\" , np.sum(array))\n",
    "print(\"Mean of array elements\" , np.mean(array))\n",
    "print(\"Standard Deviation of array elements\" , np.std(array))"
   ]
  }
 ],
 "metadata": {
  "kernelspec": {
   "display_name": "base",
   "language": "python",
   "name": "python3"
  },
  "language_info": {
   "codemirror_mode": {
    "name": "ipython",
    "version": 3
   },
   "file_extension": ".py",
   "mimetype": "text/x-python",
   "name": "python",
   "nbconvert_exporter": "python",
   "pygments_lexer": "ipython3",
   "version": "3.11.7"
  }
 },
 "nbformat": 4,
 "nbformat_minor": 5
}
